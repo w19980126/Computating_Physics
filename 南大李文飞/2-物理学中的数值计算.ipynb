{
 "cells": [
  {
   "attachments": {},
   "cell_type": "markdown",
   "id": "c571acd7",
   "metadata": {},
   "source": [
    "# <font color = 'red'> 2 物理学中的数值计算\n",
    "    \n",
    "<img src=\"Images/2-1.png\" alt='Drawing' style='width:500px' align = 'center'>\n",
    "\n",
    "---\n",
    "    \n",
    "<img src=\"Images/2-2.png\" alt='Drawing' style='width:500px' align = 'center'>\n",
    "\n",
    "---\n",
    "\n",
    "<img src=\"Images/2-3.png\" alt='Drawing' style='width:500px' align = 'center'>\n",
    "\n",
    "---\n",
    "    \n",
    "<img src=\"Images/2-4.png\" alt='Drawing' style='width:500px' align = 'center'>\n",
    "\n",
    "---\n",
    "\n",
    "<img src=\"Images/2-5.png\" alt='Drawing' style='width:500px' align = 'center'>\n",
    "\n",
    "---\n",
    "\n",
    "<img src=\"Images/2-6.png\" alt='Drawing' style='width:500px' align = 'center'>\n",
    "\n",
    "---\n",
    "    \n",
    "<img src=\"Images/2-7.png\" alt='Drawing' style='width:500px' align = 'center'>\n",
    "\n",
    "---\n",
    "\n",
    "<img src=\"Images/2-8.png\" alt='Drawing' style='width:500px' align = 'center'>\n",
    "\n",
    "---\n",
    "\n",
    "<img src=\"Images/2-9.png\" alt='Drawing' style='width:500px' align = 'center'>\n"
   ]
  },
  {
   "cell_type": "code",
   "execution_count": 7,
   "id": "6bc7dc36",
   "metadata": {},
   "outputs": [],
   "source": [
    "import numpy as np\n",
    "import matplotlib.pyplot as plt\n",
    "\n",
    "f = open('Data/粒子物理能量幅度数据.dat','w')\n",
    "E = np.array([5156, 5540, 5486, 8763, 5805])\n",
    "S = np.array([1390, 1455, 1561, 1640, 1705])\n",
    "\n",
    "for ii in range(5):\n",
    "    f.write('%d\\t%d\\n' %(E[ii], S[ii]))\n",
    "    \n",
    "with open('Data/粒子物理能量幅度数据.dat','r') as fin:\n",
    "    ii = 0\n",
    "    for lines in fin:\n",
    "        word = lines.split()\n",
    "        energy_alpha_source[ii] = float(word[0])\n",
    "        signal_alpha_source[ii] = float(word[1])\n",
    "        ii = ii+1\n",
    "        \n",
    "def "
   ]
  },
  {
   "cell_type": "code",
   "execution_count": null,
   "id": "50faec65",
   "metadata": {},
   "outputs": [],
   "source": []
  }
 ],
 "metadata": {
  "kernelspec": {
   "display_name": "Python 3 (ipykernel)",
   "language": "python",
   "name": "python3"
  },
  "language_info": {
   "codemirror_mode": {
    "name": "ipython",
    "version": 3
   },
   "file_extension": ".py",
   "mimetype": "text/x-python",
   "name": "python",
   "nbconvert_exporter": "python",
   "pygments_lexer": "ipython3",
   "version": "3.10.9"
  }
 },
 "nbformat": 4,
 "nbformat_minor": 5
}
